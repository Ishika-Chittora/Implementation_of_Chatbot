{
  "nbformat": 4,
  "nbformat_minor": 0,
  "metadata": {
    "colab": {
      "provenance": []
    },
    "kernelspec": {
      "name": "python3",
      "display_name": "Python 3"
    },
    "language_info": {
      "name": "python"
    }
  },
  "cells": [
    {
      "cell_type": "code",
      "execution_count": 1,
      "metadata": {
        "colab": {
          "base_uri": "https://localhost:8080/"
        },
        "id": "F2rLm-y8UGXN",
        "outputId": "1559dcfc-44a5-4ea4-a5b1-4d0f341b1e48"
      },
      "outputs": [
        {
          "output_type": "stream",
          "name": "stdout",
          "text": [
            "Requirement already satisfied: nltk in /usr/local/lib/python3.11/dist-packages (3.9.1)\n",
            "Requirement already satisfied: scikit-learn in /usr/local/lib/python3.11/dist-packages (1.6.1)\n",
            "Collecting streamlit\n",
            "  Downloading streamlit-1.42.2-py2.py3-none-any.whl.metadata (8.9 kB)\n",
            "Requirement already satisfied: click in /usr/local/lib/python3.11/dist-packages (from nltk) (8.1.8)\n",
            "Requirement already satisfied: joblib in /usr/local/lib/python3.11/dist-packages (from nltk) (1.4.2)\n",
            "Requirement already satisfied: regex>=2021.8.3 in /usr/local/lib/python3.11/dist-packages (from nltk) (2024.11.6)\n",
            "Requirement already satisfied: tqdm in /usr/local/lib/python3.11/dist-packages (from nltk) (4.67.1)\n",
            "Requirement already satisfied: numpy>=1.19.5 in /usr/local/lib/python3.11/dist-packages (from scikit-learn) (1.26.4)\n",
            "Requirement already satisfied: scipy>=1.6.0 in /usr/local/lib/python3.11/dist-packages (from scikit-learn) (1.13.1)\n",
            "Requirement already satisfied: threadpoolctl>=3.1.0 in /usr/local/lib/python3.11/dist-packages (from scikit-learn) (3.5.0)\n",
            "Requirement already satisfied: altair<6,>=4.0 in /usr/local/lib/python3.11/dist-packages (from streamlit) (5.5.0)\n",
            "Requirement already satisfied: blinker<2,>=1.0.0 in /usr/local/lib/python3.11/dist-packages (from streamlit) (1.9.0)\n",
            "Requirement already satisfied: cachetools<6,>=4.0 in /usr/local/lib/python3.11/dist-packages (from streamlit) (5.5.2)\n",
            "Requirement already satisfied: packaging<25,>=20 in /usr/local/lib/python3.11/dist-packages (from streamlit) (24.2)\n",
            "Requirement already satisfied: pandas<3,>=1.4.0 in /usr/local/lib/python3.11/dist-packages (from streamlit) (2.2.2)\n",
            "Requirement already satisfied: pillow<12,>=7.1.0 in /usr/local/lib/python3.11/dist-packages (from streamlit) (11.1.0)\n",
            "Requirement already satisfied: protobuf<6,>=3.20 in /usr/local/lib/python3.11/dist-packages (from streamlit) (4.25.6)\n",
            "Requirement already satisfied: pyarrow>=7.0 in /usr/local/lib/python3.11/dist-packages (from streamlit) (18.1.0)\n",
            "Requirement already satisfied: requests<3,>=2.27 in /usr/local/lib/python3.11/dist-packages (from streamlit) (2.32.3)\n",
            "Requirement already satisfied: rich<14,>=10.14.0 in /usr/local/lib/python3.11/dist-packages (from streamlit) (13.9.4)\n",
            "Requirement already satisfied: tenacity<10,>=8.1.0 in /usr/local/lib/python3.11/dist-packages (from streamlit) (9.0.0)\n",
            "Requirement already satisfied: toml<2,>=0.10.1 in /usr/local/lib/python3.11/dist-packages (from streamlit) (0.10.2)\n",
            "Requirement already satisfied: typing-extensions<5,>=4.4.0 in /usr/local/lib/python3.11/dist-packages (from streamlit) (4.12.2)\n",
            "Collecting watchdog<7,>=2.1.5 (from streamlit)\n",
            "  Downloading watchdog-6.0.0-py3-none-manylinux2014_x86_64.whl.metadata (44 kB)\n",
            "\u001b[2K     \u001b[90m━━━━━━━━━━━━━━━━━━━━━━━━━━━━━━━━━━━━━━━━\u001b[0m \u001b[32m44.3/44.3 kB\u001b[0m \u001b[31m802.7 kB/s\u001b[0m eta \u001b[36m0:00:00\u001b[0m\n",
            "\u001b[?25hRequirement already satisfied: gitpython!=3.1.19,<4,>=3.0.7 in /usr/local/lib/python3.11/dist-packages (from streamlit) (3.1.44)\n",
            "Collecting pydeck<1,>=0.8.0b4 (from streamlit)\n",
            "  Downloading pydeck-0.9.1-py2.py3-none-any.whl.metadata (4.1 kB)\n",
            "Requirement already satisfied: tornado<7,>=6.0.3 in /usr/local/lib/python3.11/dist-packages (from streamlit) (6.4.2)\n",
            "Requirement already satisfied: jinja2 in /usr/local/lib/python3.11/dist-packages (from altair<6,>=4.0->streamlit) (3.1.5)\n",
            "Requirement already satisfied: jsonschema>=3.0 in /usr/local/lib/python3.11/dist-packages (from altair<6,>=4.0->streamlit) (4.23.0)\n",
            "Requirement already satisfied: narwhals>=1.14.2 in /usr/local/lib/python3.11/dist-packages (from altair<6,>=4.0->streamlit) (1.27.1)\n",
            "Requirement already satisfied: gitdb<5,>=4.0.1 in /usr/local/lib/python3.11/dist-packages (from gitpython!=3.1.19,<4,>=3.0.7->streamlit) (4.0.12)\n",
            "Requirement already satisfied: python-dateutil>=2.8.2 in /usr/local/lib/python3.11/dist-packages (from pandas<3,>=1.4.0->streamlit) (2.8.2)\n",
            "Requirement already satisfied: pytz>=2020.1 in /usr/local/lib/python3.11/dist-packages (from pandas<3,>=1.4.0->streamlit) (2025.1)\n",
            "Requirement already satisfied: tzdata>=2022.7 in /usr/local/lib/python3.11/dist-packages (from pandas<3,>=1.4.0->streamlit) (2025.1)\n",
            "Requirement already satisfied: charset-normalizer<4,>=2 in /usr/local/lib/python3.11/dist-packages (from requests<3,>=2.27->streamlit) (3.4.1)\n",
            "Requirement already satisfied: idna<4,>=2.5 in /usr/local/lib/python3.11/dist-packages (from requests<3,>=2.27->streamlit) (3.10)\n",
            "Requirement already satisfied: urllib3<3,>=1.21.1 in /usr/local/lib/python3.11/dist-packages (from requests<3,>=2.27->streamlit) (2.3.0)\n",
            "Requirement already satisfied: certifi>=2017.4.17 in /usr/local/lib/python3.11/dist-packages (from requests<3,>=2.27->streamlit) (2025.1.31)\n",
            "Requirement already satisfied: markdown-it-py>=2.2.0 in /usr/local/lib/python3.11/dist-packages (from rich<14,>=10.14.0->streamlit) (3.0.0)\n",
            "Requirement already satisfied: pygments<3.0.0,>=2.13.0 in /usr/local/lib/python3.11/dist-packages (from rich<14,>=10.14.0->streamlit) (2.18.0)\n",
            "Requirement already satisfied: smmap<6,>=3.0.1 in /usr/local/lib/python3.11/dist-packages (from gitdb<5,>=4.0.1->gitpython!=3.1.19,<4,>=3.0.7->streamlit) (5.0.2)\n",
            "Requirement already satisfied: MarkupSafe>=2.0 in /usr/local/lib/python3.11/dist-packages (from jinja2->altair<6,>=4.0->streamlit) (3.0.2)\n",
            "Requirement already satisfied: attrs>=22.2.0 in /usr/local/lib/python3.11/dist-packages (from jsonschema>=3.0->altair<6,>=4.0->streamlit) (25.1.0)\n",
            "Requirement already satisfied: jsonschema-specifications>=2023.03.6 in /usr/local/lib/python3.11/dist-packages (from jsonschema>=3.0->altair<6,>=4.0->streamlit) (2024.10.1)\n",
            "Requirement already satisfied: referencing>=0.28.4 in /usr/local/lib/python3.11/dist-packages (from jsonschema>=3.0->altair<6,>=4.0->streamlit) (0.36.2)\n",
            "Requirement already satisfied: rpds-py>=0.7.1 in /usr/local/lib/python3.11/dist-packages (from jsonschema>=3.0->altair<6,>=4.0->streamlit) (0.23.0)\n",
            "Requirement already satisfied: mdurl~=0.1 in /usr/local/lib/python3.11/dist-packages (from markdown-it-py>=2.2.0->rich<14,>=10.14.0->streamlit) (0.1.2)\n",
            "Requirement already satisfied: six>=1.5 in /usr/local/lib/python3.11/dist-packages (from python-dateutil>=2.8.2->pandas<3,>=1.4.0->streamlit) (1.17.0)\n",
            "Downloading streamlit-1.42.2-py2.py3-none-any.whl (9.6 MB)\n",
            "\u001b[2K   \u001b[90m━━━━━━━━━━━━━━━━━━━━━━━━━━━━━━━━━━━━━━━━\u001b[0m \u001b[32m9.6/9.6 MB\u001b[0m \u001b[31m28.9 MB/s\u001b[0m eta \u001b[36m0:00:00\u001b[0m\n",
            "\u001b[?25hDownloading pydeck-0.9.1-py2.py3-none-any.whl (6.9 MB)\n",
            "\u001b[2K   \u001b[90m━━━━━━━━━━━━━━━━━━━━━━━━━━━━━━━━━━━━━━━━\u001b[0m \u001b[32m6.9/6.9 MB\u001b[0m \u001b[31m36.3 MB/s\u001b[0m eta \u001b[36m0:00:00\u001b[0m\n",
            "\u001b[?25hDownloading watchdog-6.0.0-py3-none-manylinux2014_x86_64.whl (79 kB)\n",
            "\u001b[2K   \u001b[90m━━━━━━━━━━━━━━━━━━━━━━━━━━━━━━━━━━━━━━━━\u001b[0m \u001b[32m79.1/79.1 kB\u001b[0m \u001b[31m3.3 MB/s\u001b[0m eta \u001b[36m0:00:00\u001b[0m\n",
            "\u001b[?25hInstalling collected packages: watchdog, pydeck, streamlit\n",
            "Successfully installed pydeck-0.9.1 streamlit-1.42.2 watchdog-6.0.0\n"
          ]
        }
      ],
      "source": [
        "pip install nltk scikit-learn streamlit"
      ]
    },
    {
      "cell_type": "code",
      "source": [
        "import nltk\n",
        "import random\n",
        "import os\n",
        "import ssl\n",
        "import streamlit as st\n",
        "from sklearn.feature_extraction.text import TfidfVectorizer\n",
        "from sklearn.linear_model import LogisticRegression"
      ],
      "metadata": {
        "id": "WC1-iXH8UmSW"
      },
      "execution_count": 2,
      "outputs": []
    },
    {
      "cell_type": "code",
      "source": [
        "ssl._create_default_https_context = ssl._create_unverified_context\n",
        "nltk.data.path.append(os.path.abspath('nltk_data'))\n",
        "nltk.download('punkt')"
      ],
      "metadata": {
        "colab": {
          "base_uri": "https://localhost:8080/"
        },
        "id": "BbB0H3d8Vh4C",
        "outputId": "5a3d6d72-1877-476c-cdb5-a14a760ea437"
      },
      "execution_count": 3,
      "outputs": [
        {
          "output_type": "stream",
          "name": "stderr",
          "text": [
            "[nltk_data] Downloading package punkt to /root/nltk_data...\n",
            "[nltk_data]   Unzipping tokenizers/punkt.zip.\n"
          ]
        },
        {
          "output_type": "execute_result",
          "data": {
            "text/plain": [
              "True"
            ]
          },
          "metadata": {},
          "execution_count": 3
        }
      ]
    },
    {
      "cell_type": "code",
      "source": [
        "# Define pairs of patterns and responses\n",
        "pairs = [\n",
        "    # Greetings\n",
        "    [\n",
        "        r\"hi|hello|hey\",\n",
        "        [\"Hello! Welcome to the Udaipur Travel Guide. How can I assist you today?\", \"Hi there! How can I help you with your Udaipur travel plans?\"]\n",
        "    ],\n",
        "    # Tourist Locations\n",
        "    [\n",
        "        r\"what are the best tourist places in Udaipur|top attractions in Udaipur|places to visit in Udaipur\",\n",
        "        [\"Udaipur is famous for its beautiful lakes and palaces. Some must-visit places are:\\n\"\n",
        "         \"1. City Palace\\n\"\n",
        "         \"2. Lake Pichola\\n\"\n",
        "         \"3. Jag Mandir\\n\"\n",
        "         \"4. Saheliyon Ki Bari\\n\"\n",
        "         \"5. Bagore Ki Haveli\\n\"\n",
        "         \"6. Monsoon Palace\\n\"\n",
        "         \"7. Fateh Sagar Lake\\n\"\n",
        "         \"Let me know if you want details about any specific place!\"]\n",
        "    ],\n",
        "    [\n",
        "        r\"tell me about (.*)\",\n",
        "        [\n",
        "            \"Sure! Here's some information about %1:\\n\"\n",
        "            \"1. **City Palace**: A majestic palace complex with museums, courtyards, and stunning views of Lake Pichola.\\n\"\n",
        "            \"2. **Lake Pichola**: A picturesque lake with boat rides and views of the surrounding palaces.\\n\"\n",
        "            \"3. **Jag Mandir**: A beautiful island palace in Lake Pichola.\\n\"\n",
        "            \"4. **Saheliyon Ki Bari**: A historic garden with fountains and lush greenery.\\n\"\n",
        "            \"5. **Bagore Ki Haveli**: A restored haveli showcasing royal artifacts and cultural performances.\\n\"\n",
        "            \"6. **Monsoon Palace**: A hilltop palace offering panoramic views of Udaipur.\\n\"\n",
        "            \"7. **Fateh Sagar Lake**: A serene lake surrounded by hills and gardens.\\n\"\n",
        "            \"Would you like more details about any of these?\"\n",
        "        ]\n",
        "    ],\n",
        "    # Budget and Prices\n",
        "    [\n",
        "        r\"what is the budget for Udaipur|how much does it cost to visit Udaipur|prices in Udaipur\",\n",
        "        [\"The budget for Udaipur depends on your travel style:\\n\"\n",
        "         \"1. **Budget Travel**: ₹1000-₹2000 per day (budget hotels, local food, public transport).\\n\"\n",
        "         \"2. **Mid-Range Travel**: ₹3000-₹5000 per day (3-star hotels, restaurants, private taxis).\\n\"\n",
        "         \"3. **Luxury Travel**: ₹7000+ per day (5-star hotels, fine dining, private tours).\\n\"\n",
        "         \"Let me know if you need help with specific expenses!\"]\n",
        "    ],\n",
        "    [\n",
        "        r\"how much does a boat ride cost in Lake Pichola|boat ride price\",\n",
        "        [\"The boat ride in Lake Pichola costs around ₹400-₹600 per person for a basic ride. Private boat rides can cost more.\"]\n",
        "    ],\n",
        "    # Restaurants\n",
        "    [\n",
        "        r\"best restaurants in Udaipur|where to eat in Udaipur|top restaurants\",\n",
        "        [\"Udaipur has some amazing restaurants:\\n\"\n",
        "         \"1. **Ambrai**: Offers lakeside dining with a view of City Palace.\\n\"\n",
        "         \"2. **Upre**: Rooftop restaurant with a view of Lake Pichola.\\n\"\n",
        "         \"3. **Charcoal By Carlsson**: Known for its continental cuisine.\\n\"\n",
        "         \"4. **Millets of Mewar**: Great for healthy and organic food.\\n\"\n",
        "         \"5. **Jheel's Ginger Coffee Bar**: Perfect for coffee lovers.\\n\"\n",
        "         \"Let me know if you want more recommendations!\"]\n",
        "    ],\n",
        "    # Weather\n",
        "    [\n",
        "        r\"what is the weather like in Udaipur|best time to visit Udaipur|Udaipur weather\",\n",
        "        [\"Udaipur has a semi-arid climate. Here's the best time to visit:\\n\"\n",
        "         \"1. **October to March**: Pleasant weather, ideal for sightseeing (15°C to 25°C).\\n\"\n",
        "         \"2. **April to June**: Hot and dry (up to 40°C).\\n\"\n",
        "         \"3. **July to September**: Monsoon season with moderate rainfall.\\n\"\n",
        "         \"Plan your trip accordingly!\"]\n",
        "    ],\n",
        "    # Hotels\n",
        "    [\n",
        "        r\"best hotels in Udaipur|where to stay in Udaipur|hotels in Udaipur\",\n",
        "        [\"Here are some great hotels in Udaipur:\\n\"\n",
        "         \"1. **The Oberoi Udaivilas**: A luxury hotel with stunning architecture.\\n\"\n",
        "         \"2. **Taj Lake Palace**: A iconic hotel located in the middle of Lake Pichola.\\n\"\n",
        "         \"3. **Trident Udaipur**: A mid-range option with beautiful lake views.\\n\"\n",
        "         \"4. **Jagat Niwas Palace Hotel**: A heritage hotel with a royal feel.\\n\"\n",
        "         \"5. **Treebo Trend Krishna Niwas**: A budget-friendly option with good amenities.\\n\"\n",
        "         \"Let me know if you need help with bookings!\"]\n",
        "    ],\n",
        "    # Souvenirs and Gifts\n",
        "    [\n",
        "        r\"best souvenirs to buy in Udaipur|what to buy in Udaipur|gifts from Udaipur\",\n",
        "        [\"Udaipur is known for its unique souvenirs and gifts:\\n\"\n",
        "         \"1. **Miniature Paintings**: Handmade paintings depicting Rajasthani culture.\\n\"\n",
        "         \"2. **Silver Jewelry**: Exquisite designs crafted by local artisans.\\n\"\n",
        "         \"3. **Pichwai Paintings**: Traditional cloth paintings of Lord Krishna.\\n\"\n",
        "         \"4. **Rajasthani Handicrafts**: Pottery, textiles, and wooden items.\\n\"\n",
        "         \"5. **Bandhani Sarees**: Traditional tie-and-dye sarees.\\n\"\n",
        "         \"You can find these at Hathi Pol Bazaar and Bada Bazaar.\"]\n",
        "    ],\n",
        "    # Temples\n",
        "    [\n",
        "        r\"famous temples in Udaipur|temples to visit in Udaipur|religious places in Udaipur\",\n",
        "        [\"Udaipur has several beautiful temples:\\n\"\n",
        "         \"1. **Jagdish Temple**: A 17th-century temple dedicated to Lord Vishnu.\\n\"\n",
        "         \"2. **Eklingji Temple**: A historic temple complex dedicated to Lord Shiva.\\n\"\n",
        "         \"3. **Neemach Mata Temple**: Located on a hilltop with panoramic views.\\n\"\n",
        "         \"4. **Sas Bahu Temple**: Known for its intricate carvings.\\n\"\n",
        "         \"5. **Shri Manshapurna Karni Mata Temple**: A serene temple near the ropeway.\\n\"\n",
        "         \"Let me know if you need more details!\"]\n",
        "    ],\n",
        "    # Transportation\n",
        "    [\n",
        "        r\"how to travel in Udaipur|transport in Udaipur|local transport options\",\n",
        "        [\"Here are some ways to get around Udaipur:\\n\"\n",
        "         \"1. **Auto-rickshaws**: Affordable and widely available.\\n\"\n",
        "         \"2. **Taxis**: Private taxis can be hired for full-day tours.\\n\"\n",
        "         \"3. **Buses**: Local buses connect major areas.\\n\"\n",
        "         \"4. **Bike Rentals**: Scooters and bikes can be rented for self-exploration.\\n\"\n",
        "         \"5. **Boat Rides**: Available on Lake Pichola and Fateh Sagar Lake.\\n\"\n",
        "         \"Let me know if you need help with transportation!\"]\n",
        "    ],\n",
        "    # Goodbye\n",
        "    [\n",
        "        r\"quit|bye|goodbye\",\n",
        "        [\"Thank you for using the Udaipur Travel Guide. Have a great trip!\", \"Goodbye! Safe travels!\"]\n",
        "    ],\n",
        "    # Default Response\n",
        "    [\n",
        "        r\"default\",\n",
        "        [\"I'm sorry, I didn't understand that. Can you please rephrase your question?\"]\n",
        "    ]\n",
        "]\n"
      ],
      "metadata": {
        "id": "Nso4pisMfoqR"
      },
      "execution_count": 12,
      "outputs": []
    }
  ]
}